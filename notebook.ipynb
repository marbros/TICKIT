{
 "cells": [
  {
   "cell_type": "code",
   "metadata": {
    "tags": [],
    "cell_id": "ce6e10e7-d425-43c3-8540-7177f4f4063d",
    "deepnote_cell_type": "code",
    "deepnote_cell_height": 66
   },
   "source": "# Start writing code here...",
   "execution_count": null,
   "outputs": []
  },
  {
   "cell_type": "markdown",
   "source": "# TICKIT",
   "metadata": {
    "cell_id": "5ebf4b8e-a87a-4991-83df-af991b264c1b",
    "tags": [],
    "is_collapsed": false,
    "deepnote_cell_type": "text-cell-h1",
    "deepnote_cell_height": 82
   }
  },
  {
   "cell_type": "markdown",
   "source": "Desarrolle una solución en la nube del proveedor de su preferencia usando el dataset TICKIT, esta base de datos de ejemplo es utilizado para rastrear la actividad de ventas del sitio web ficticio TICKIT, donde los usuario compran y venden boletos en línea para eventos deportivos, espectáculos y conciertos. En particular, los analistas pueden identificar el movimiento de boletos a lo largo del tiempo, las tasas de éxito de los vendedores y los eventos, lugares y temporadas más vendidos. Los analistas pueden utilizar esta información para proporcionar incentivos a los compradores y vendedores que frecuentan el sitio, para atraer a nuevos usuarios y para generar publicidad y promociones.",
   "metadata": {
    "cell_id": "6cba3e81-5d08-4794-b898-b86b1b36ebc2",
    "tags": [],
    "is_collapsed": false,
    "deepnote_cell_type": "text-cell-p",
    "deepnote_cell_height": 164.390625
   }
  },
  {
   "cell_type": "markdown",
   "source": "## Problema",
   "metadata": {
    "cell_id": "9ef0c6ef-053c-466d-9d79-7fba64e5c667",
    "tags": [],
    "is_collapsed": false,
    "deepnote_cell_type": "text-cell-h2",
    "deepnote_cell_height": 70
   }
  },
  {
   "cell_type": "markdown",
   "source": "Se desea realizar un modelo de Forecast con cualquier técnica de su preferencia para pronosticar las ventas para los siguientes 7 días desde el final del histórico de datos, tenga en cuenta que la fecha de la venta se encuentra en la variable “saletime” y que esta está mostrada a una granularidad de factura individual",
   "metadata": {
    "cell_id": "fd5081e5-cff4-4000-9d8b-684d941a2aa6",
    "tags": [],
    "is_collapsed": false,
    "deepnote_cell_type": "text-cell-p",
    "deepnote_cell_height": 97.1875
   }
  },
  {
   "cell_type": "markdown",
   "source": "### Importando el Data Set",
   "metadata": {
    "cell_id": "aaa0da54-ba4c-47f3-a203-84233302a552",
    "tags": [],
    "is_collapsed": false,
    "deepnote_cell_type": "text-cell-h3",
    "deepnote_cell_height": 62
   }
  },
  {
   "cell_type": "code",
   "source": "import numpy as np\nimport pandas as pd\nimport matplotlib.pyplot as plt",
   "metadata": {
    "cell_id": "ba8dec35-79c6-4cc0-9225-3fb34a0003db",
    "tags": [],
    "deepnote_to_be_reexecuted": false,
    "source_hash": "35374e32",
    "execution_start": 1647458615598,
    "execution_millis": 2040,
    "deepnote_cell_type": "code",
    "deepnote_cell_height": 117
   },
   "outputs": [],
   "execution_count": null
  },
  {
   "cell_type": "code",
   "source": "colnames = [\"salesid\",\"listid\",\"sellerid\",\"buyerid\",\"eventid\",\"dateid\",\"qtysold\",\"pricepaid\",\"commission\",\"saletime\"]",
   "metadata": {
    "cell_id": "7eeb429d-161a-481c-93a2-7b9e8211cde7",
    "tags": [],
    "deepnote_to_be_reexecuted": false,
    "source_hash": "9cbb169d",
    "execution_start": 1647458619186,
    "execution_millis": 2,
    "deepnote_cell_type": "code",
    "deepnote_cell_height": 81
   },
   "outputs": [],
   "execution_count": null
  },
  {
   "cell_type": "code",
   "source": "url = ('tickitdb/sales_tab.txt')\ntrain_data = pd.read_csv(url, header=None, sep='\\t')",
   "metadata": {
    "cell_id": "aceb9273-4b6c-48c8-b4ea-2882a73a689c",
    "tags": [],
    "deepnote_to_be_reexecuted": false,
    "source_hash": "4a9597c4",
    "execution_start": 1647458621302,
    "execution_millis": 272,
    "deepnote_cell_type": "code",
    "deepnote_cell_height": 99
   },
   "outputs": [],
   "execution_count": null
  },
  {
   "cell_type": "code",
   "source": "train_data.columns = colnames",
   "metadata": {
    "cell_id": "fb47b041-8a13-473e-af72-2f1b7ee140eb",
    "tags": [],
    "deepnote_to_be_reexecuted": false,
    "source_hash": "b7a0e603",
    "execution_start": 1647458623542,
    "execution_millis": 0,
    "deepnote_cell_type": "code",
    "deepnote_cell_height": 81
   },
   "outputs": [],
   "execution_count": null
  },
  {
   "cell_type": "code",
   "source": "pd.set_option('display.max_columns', None) ",
   "metadata": {
    "cell_id": "17c06655-ffdc-4bf4-944a-e345ded42984",
    "tags": [],
    "deepnote_to_be_reexecuted": false,
    "source_hash": "d761e21b",
    "execution_start": 1647458626228,
    "execution_millis": 5,
    "deepnote_cell_type": "code",
    "deepnote_cell_height": 81
   },
   "outputs": [],
   "execution_count": null
  },
  {
   "cell_type": "code",
   "source": "train_data.head()",
   "metadata": {
    "cell_id": "1682e773-5a54-4276-a4d0-c168ad14f487",
    "tags": [],
    "deepnote_to_be_reexecuted": false,
    "source_hash": "33e89837",
    "execution_start": 1647458628220,
    "execution_millis": 61,
    "deepnote_cell_type": "code",
    "deepnote_cell_height": 409.796875
   },
   "outputs": [
    {
     "output_type": "execute_result",
     "execution_count": 10,
     "data": {
      "application/vnd.deepnote.dataframe.v3+json": {
       "column_count": 10,
       "row_count": 5,
       "columns": [
        {
         "name": "salesid",
         "dtype": "int64",
         "stats": {
          "unique_count": 5,
          "nan_count": 0,
          "min": "1",
          "max": "5",
          "histogram": [
           {
            "bin_start": 1,
            "bin_end": 1.4,
            "count": 1
           },
           {
            "bin_start": 1.4,
            "bin_end": 1.8,
            "count": 0
           },
           {
            "bin_start": 1.8,
            "bin_end": 2.2,
            "count": 1
           },
           {
            "bin_start": 2.2,
            "bin_end": 2.6,
            "count": 0
           },
           {
            "bin_start": 2.6,
            "bin_end": 3,
            "count": 0
           },
           {
            "bin_start": 3,
            "bin_end": 3.4000000000000004,
            "count": 1
           },
           {
            "bin_start": 3.4000000000000004,
            "bin_end": 3.8000000000000003,
            "count": 0
           },
           {
            "bin_start": 3.8000000000000003,
            "bin_end": 4.2,
            "count": 1
           },
           {
            "bin_start": 4.2,
            "bin_end": 4.6,
            "count": 0
           },
           {
            "bin_start": 4.6,
            "bin_end": 5,
            "count": 1
           }
          ]
         }
        },
        {
         "name": "listid",
         "dtype": "int64",
         "stats": {
          "unique_count": 4,
          "nan_count": 0,
          "min": "1",
          "max": "6",
          "histogram": [
           {
            "bin_start": 1,
            "bin_end": 1.5,
            "count": 1
           },
           {
            "bin_start": 1.5,
            "bin_end": 2,
            "count": 0
           },
           {
            "bin_start": 2,
            "bin_end": 2.5,
            "count": 0
           },
           {
            "bin_start": 2.5,
            "bin_end": 3,
            "count": 0
           },
           {
            "bin_start": 3,
            "bin_end": 3.5,
            "count": 0
           },
           {
            "bin_start": 3.5,
            "bin_end": 4,
            "count": 0
           },
           {
            "bin_start": 4,
            "bin_end": 4.5,
            "count": 1
           },
           {
            "bin_start": 4.5,
            "bin_end": 5,
            "count": 0
           },
           {
            "bin_start": 5,
            "bin_end": 5.5,
            "count": 2
           },
           {
            "bin_start": 5.5,
            "bin_end": 6,
            "count": 1
           }
          ]
         }
        },
        {
         "name": "sellerid",
         "dtype": "int64",
         "stats": {
          "unique_count": 4,
          "nan_count": 0,
          "min": "1616",
          "max": "47402",
          "histogram": [
           {
            "bin_start": 1616,
            "bin_end": 6194.6,
            "count": 2
           },
           {
            "bin_start": 6194.6,
            "bin_end": 10773.2,
            "count": 1
           },
           {
            "bin_start": 10773.2,
            "bin_end": 15351.800000000001,
            "count": 0
           },
           {
            "bin_start": 15351.800000000001,
            "bin_end": 19930.4,
            "count": 0
           },
           {
            "bin_start": 19930.4,
            "bin_end": 24509,
            "count": 0
           },
           {
            "bin_start": 24509,
            "bin_end": 29087.600000000002,
            "count": 0
           },
           {
            "bin_start": 29087.600000000002,
            "bin_end": 33666.200000000004,
            "count": 0
           },
           {
            "bin_start": 33666.200000000004,
            "bin_end": 38244.8,
            "count": 1
           },
           {
            "bin_start": 38244.8,
            "bin_end": 42823.4,
            "count": 0
           },
           {
            "bin_start": 42823.4,
            "bin_end": 47402,
            "count": 1
           }
          ]
         }
        },
        {
         "name": "buyerid",
         "dtype": "int64",
         "stats": {
          "unique_count": 5,
          "nan_count": 0,
          "min": "11498",
          "max": "21191",
          "histogram": [
           {
            "bin_start": 11498,
            "bin_end": 12467.3,
            "count": 1
           },
           {
            "bin_start": 12467.3,
            "bin_end": 13436.6,
            "count": 0
           },
           {
            "bin_start": 13436.6,
            "bin_end": 14405.9,
            "count": 1
           },
           {
            "bin_start": 14405.9,
            "bin_end": 15375.2,
            "count": 0
           },
           {
            "bin_start": 15375.2,
            "bin_end": 16344.5,
            "count": 0
           },
           {
            "bin_start": 16344.5,
            "bin_end": 17313.8,
            "count": 0
           },
           {
            "bin_start": 17313.8,
            "bin_end": 18283.1,
            "count": 1
           },
           {
            "bin_start": 18283.1,
            "bin_end": 19252.4,
            "count": 0
           },
           {
            "bin_start": 19252.4,
            "bin_end": 20221.699999999997,
            "count": 1
           },
           {
            "bin_start": 20221.699999999997,
            "bin_end": 21191,
            "count": 1
           }
          ]
         }
        },
        {
         "name": "eventid",
         "dtype": "int64",
         "stats": {
          "unique_count": 4,
          "nan_count": 0,
          "min": "4337",
          "max": "8647",
          "histogram": [
           {
            "bin_start": 4337,
            "bin_end": 4768,
            "count": 1
           },
           {
            "bin_start": 4768,
            "bin_end": 5199,
            "count": 0
           },
           {
            "bin_start": 5199,
            "bin_end": 5630,
            "count": 0
           },
           {
            "bin_start": 5630,
            "bin_end": 6061,
            "count": 0
           },
           {
            "bin_start": 6061,
            "bin_end": 6492,
            "count": 0
           },
           {
            "bin_start": 6492,
            "bin_end": 6923,
            "count": 0
           },
           {
            "bin_start": 6923,
            "bin_end": 7354,
            "count": 0
           },
           {
            "bin_start": 7354,
            "bin_end": 7785,
            "count": 0
           },
           {
            "bin_start": 7785,
            "bin_end": 8216,
            "count": 1
           },
           {
            "bin_start": 8216,
            "bin_end": 8647,
            "count": 3
           }
          ]
         }
        },
        {
         "name": "dateid",
         "dtype": "int64",
         "stats": {
          "unique_count": 4,
          "nan_count": 0,
          "min": "1875",
          "max": "2069",
          "histogram": [
           {
            "bin_start": 1875,
            "bin_end": 1894.4,
            "count": 1
           },
           {
            "bin_start": 1894.4,
            "bin_end": 1913.8,
            "count": 0
           },
           {
            "bin_start": 1913.8,
            "bin_end": 1933.2,
            "count": 0
           },
           {
            "bin_start": 1933.2,
            "bin_end": 1952.6,
            "count": 0
           },
           {
            "bin_start": 1952.6,
            "bin_end": 1972,
            "count": 0
           },
           {
            "bin_start": 1972,
            "bin_end": 1991.4,
            "count": 3
           },
           {
            "bin_start": 1991.4,
            "bin_end": 2010.8,
            "count": 0
           },
           {
            "bin_start": 2010.8,
            "bin_end": 2030.2,
            "count": 0
           },
           {
            "bin_start": 2030.2,
            "bin_end": 2049.6,
            "count": 0
           },
           {
            "bin_start": 2049.6,
            "bin_end": 2069,
            "count": 1
           }
          ]
         }
        },
        {
         "name": "qtysold",
         "dtype": "int64",
         "stats": {
          "unique_count": 3,
          "nan_count": 0,
          "min": "1",
          "max": "4",
          "histogram": [
           {
            "bin_start": 1,
            "bin_end": 1.3,
            "count": 1
           },
           {
            "bin_start": 1.3,
            "bin_end": 1.6,
            "count": 0
           },
           {
            "bin_start": 1.6,
            "bin_end": 1.9,
            "count": 0
           },
           {
            "bin_start": 1.9,
            "bin_end": 2.2,
            "count": 3
           },
           {
            "bin_start": 2.2,
            "bin_end": 2.5,
            "count": 0
           },
           {
            "bin_start": 2.5,
            "bin_end": 2.8,
            "count": 0
           },
           {
            "bin_start": 2.8,
            "bin_end": 3.1,
            "count": 0
           },
           {
            "bin_start": 3.1,
            "bin_end": 3.4,
            "count": 0
           },
           {
            "bin_start": 3.4,
            "bin_end": 3.6999999999999997,
            "count": 0
           },
           {
            "bin_start": 3.6999999999999997,
            "bin_end": 4,
            "count": 1
           }
          ]
         }
        },
        {
         "name": "pricepaid",
         "dtype": "int64",
         "stats": {
          "unique_count": 5,
          "nan_count": 0,
          "min": "76",
          "max": "728",
          "histogram": [
           {
            "bin_start": 76,
            "bin_end": 141.2,
            "count": 1
           },
           {
            "bin_start": 141.2,
            "bin_end": 206.4,
            "count": 2
           },
           {
            "bin_start": 206.4,
            "bin_end": 271.6,
            "count": 0
           },
           {
            "bin_start": 271.6,
            "bin_end": 336.8,
            "count": 0
           },
           {
            "bin_start": 336.8,
            "bin_end": 402,
            "count": 1
           },
           {
            "bin_start": 402,
            "bin_end": 467.20000000000005,
            "count": 0
           },
           {
            "bin_start": 467.20000000000005,
            "bin_end": 532.4000000000001,
            "count": 0
           },
           {
            "bin_start": 532.4000000000001,
            "bin_end": 597.6,
            "count": 0
           },
           {
            "bin_start": 597.6,
            "bin_end": 662.8000000000001,
            "count": 0
           },
           {
            "bin_start": 662.8000000000001,
            "bin_end": 728,
            "count": 1
           }
          ]
         }
        },
        {
         "name": "commission",
         "dtype": "float64",
         "stats": {
          "unique_count": 5,
          "nan_count": 0,
          "min": "11.4",
          "max": "109.2",
          "histogram": [
           {
            "bin_start": 11.4,
            "bin_end": 21.18,
            "count": 1
           },
           {
            "bin_start": 21.18,
            "bin_end": 30.96,
            "count": 2
           },
           {
            "bin_start": 30.96,
            "bin_end": 40.739999999999995,
            "count": 0
           },
           {
            "bin_start": 40.739999999999995,
            "bin_end": 50.519999999999996,
            "count": 0
           },
           {
            "bin_start": 50.519999999999996,
            "bin_end": 60.3,
            "count": 1
           },
           {
            "bin_start": 60.3,
            "bin_end": 70.08,
            "count": 0
           },
           {
            "bin_start": 70.08,
            "bin_end": 79.86,
            "count": 0
           },
           {
            "bin_start": 79.86,
            "bin_end": 89.64,
            "count": 0
           },
           {
            "bin_start": 89.64,
            "bin_end": 99.42,
            "count": 0
           },
           {
            "bin_start": 99.42,
            "bin_end": 109.2,
            "count": 1
           }
          ]
         }
        },
        {
         "name": "saletime",
         "dtype": "object",
         "stats": {
          "unique_count": 5,
          "nan_count": 0,
          "categories": [
           {
            "name": "2/18/2008 02:36:48",
            "count": 1
           },
           {
            "name": "6/6/2008 05:00:16",
            "count": 1
           },
           {
            "name": "3 others",
            "count": 3
           }
          ]
         }
        },
        {
         "name": "_deepnote_index_column",
         "dtype": "int64"
        }
       ],
       "rows": [
        {
         "salesid": 1,
         "listid": 1,
         "sellerid": 36861,
         "buyerid": 21191,
         "eventid": 7872,
         "dateid": 1875,
         "qtysold": 4,
         "pricepaid": 728,
         "commission": 109.2,
         "saletime": "2/18/2008 02:36:48",
         "_deepnote_index_column": 0
        },
        {
         "salesid": 2,
         "listid": 4,
         "sellerid": 8117,
         "buyerid": 11498,
         "eventid": 4337,
         "dateid": 1983,
         "qtysold": 2,
         "pricepaid": 76,
         "commission": 11.4,
         "saletime": "6/6/2008 05:00:16",
         "_deepnote_index_column": 1
        },
        {
         "salesid": 3,
         "listid": 5,
         "sellerid": 1616,
         "buyerid": 17433,
         "eventid": 8647,
         "dateid": 1983,
         "qtysold": 2,
         "pricepaid": 350,
         "commission": 52.5,
         "saletime": "6/6/2008 08:26:17",
         "_deepnote_index_column": 2
        },
        {
         "salesid": 4,
         "listid": 5,
         "sellerid": 1616,
         "buyerid": 19715,
         "eventid": 8647,
         "dateid": 1986,
         "qtysold": 1,
         "pricepaid": 175,
         "commission": 26.25,
         "saletime": "6/9/2008 08:38:52",
         "_deepnote_index_column": 3
        },
        {
         "salesid": 5,
         "listid": 6,
         "sellerid": 47402,
         "buyerid": 14115,
         "eventid": 8240,
         "dateid": 2069,
         "qtysold": 2,
         "pricepaid": 154,
         "commission": 23.1,
         "saletime": "8/31/2008 09:17:02",
         "_deepnote_index_column": 4
        }
       ]
      },
      "text/plain": "   salesid  listid  sellerid  buyerid  eventid  dateid  qtysold  pricepaid  \\\n0        1       1     36861    21191     7872    1875        4        728   \n1        2       4      8117    11498     4337    1983        2         76   \n2        3       5      1616    17433     8647    1983        2        350   \n3        4       5      1616    19715     8647    1986        1        175   \n4        5       6     47402    14115     8240    2069        2        154   \n\n   commission            saletime  \n0      109.20  2/18/2008 02:36:48  \n1       11.40   6/6/2008 05:00:16  \n2       52.50   6/6/2008 08:26:17  \n3       26.25   6/9/2008 08:38:52  \n4       23.10  8/31/2008 09:17:02  ",
      "text/html": "<div>\n<style scoped>\n    .dataframe tbody tr th:only-of-type {\n        vertical-align: middle;\n    }\n\n    .dataframe tbody tr th {\n        vertical-align: top;\n    }\n\n    .dataframe thead th {\n        text-align: right;\n    }\n</style>\n<table border=\"1\" class=\"dataframe\">\n  <thead>\n    <tr style=\"text-align: right;\">\n      <th></th>\n      <th>salesid</th>\n      <th>listid</th>\n      <th>sellerid</th>\n      <th>buyerid</th>\n      <th>eventid</th>\n      <th>dateid</th>\n      <th>qtysold</th>\n      <th>pricepaid</th>\n      <th>commission</th>\n      <th>saletime</th>\n    </tr>\n  </thead>\n  <tbody>\n    <tr>\n      <th>0</th>\n      <td>1</td>\n      <td>1</td>\n      <td>36861</td>\n      <td>21191</td>\n      <td>7872</td>\n      <td>1875</td>\n      <td>4</td>\n      <td>728</td>\n      <td>109.20</td>\n      <td>2/18/2008 02:36:48</td>\n    </tr>\n    <tr>\n      <th>1</th>\n      <td>2</td>\n      <td>4</td>\n      <td>8117</td>\n      <td>11498</td>\n      <td>4337</td>\n      <td>1983</td>\n      <td>2</td>\n      <td>76</td>\n      <td>11.40</td>\n      <td>6/6/2008 05:00:16</td>\n    </tr>\n    <tr>\n      <th>2</th>\n      <td>3</td>\n      <td>5</td>\n      <td>1616</td>\n      <td>17433</td>\n      <td>8647</td>\n      <td>1983</td>\n      <td>2</td>\n      <td>350</td>\n      <td>52.50</td>\n      <td>6/6/2008 08:26:17</td>\n    </tr>\n    <tr>\n      <th>3</th>\n      <td>4</td>\n      <td>5</td>\n      <td>1616</td>\n      <td>19715</td>\n      <td>8647</td>\n      <td>1986</td>\n      <td>1</td>\n      <td>175</td>\n      <td>26.25</td>\n      <td>6/9/2008 08:38:52</td>\n    </tr>\n    <tr>\n      <th>4</th>\n      <td>5</td>\n      <td>6</td>\n      <td>47402</td>\n      <td>14115</td>\n      <td>8240</td>\n      <td>2069</td>\n      <td>2</td>\n      <td>154</td>\n      <td>23.10</td>\n      <td>8/31/2008 09:17:02</td>\n    </tr>\n  </tbody>\n</table>\n</div>"
     },
     "metadata": {}
    }
   ],
   "execution_count": null
  },
  {
   "cell_type": "markdown",
   "source": "### Converción del campo saletime a datetime",
   "metadata": {
    "cell_id": "1e53bace-5454-4ea8-b436-4eadd517b5f0",
    "tags": [],
    "is_collapsed": false,
    "deepnote_cell_type": "text-cell-h3",
    "deepnote_cell_height": 62
   }
  },
  {
   "cell_type": "code",
   "source": "train_data.saletime = pd.to_datetime(train_data.saletime)",
   "metadata": {
    "cell_id": "92f4c363-51b5-4a7c-b11d-b56aa8c8e5c4",
    "tags": [],
    "deepnote_to_be_reexecuted": false,
    "source_hash": "3c234978",
    "execution_start": 1647458632218,
    "execution_millis": 27198,
    "deepnote_cell_type": "code",
    "deepnote_cell_height": 81
   },
   "outputs": [],
   "execution_count": null
  },
  {
   "cell_type": "code",
   "source": "train_data.info()",
   "metadata": {
    "cell_id": "59f8ab4d-3746-4630-9a0e-0df29715e650",
    "tags": [],
    "deepnote_to_be_reexecuted": false,
    "source_hash": "9456a8b0",
    "execution_start": 1647458694260,
    "execution_millis": 2,
    "deepnote_cell_type": "code",
    "deepnote_cell_height": 432
   },
   "outputs": [
    {
     "name": "stdout",
     "text": "<class 'pandas.core.frame.DataFrame'>\nRangeIndex: 172456 entries, 0 to 172455\nData columns (total 10 columns):\n #   Column      Non-Null Count   Dtype         \n---  ------      --------------   -----         \n 0   salesid     172456 non-null  int64         \n 1   listid      172456 non-null  int64         \n 2   sellerid    172456 non-null  int64         \n 3   buyerid     172456 non-null  int64         \n 4   eventid     172456 non-null  int64         \n 5   dateid      172456 non-null  int64         \n 6   qtysold     172456 non-null  int64         \n 7   pricepaid   172456 non-null  int64         \n 8   commission  172456 non-null  float64       \n 9   saletime    172456 non-null  datetime64[ns]\ndtypes: datetime64[ns](1), float64(1), int64(8)\nmemory usage: 13.2 MB\n",
     "output_type": "stream"
    }
   ],
   "execution_count": null
  },
  {
   "cell_type": "code",
   "source": "#SAcar la fecha\ntrain_data.saletime.dt.date",
   "metadata": {
    "cell_id": "2a2e5c6f-5112-42b4-9fc5-ca2415ef43ae",
    "tags": [],
    "deepnote_to_be_reexecuted": false,
    "source_hash": "a7a87c13",
    "execution_start": 1647458700687,
    "execution_millis": 85,
    "deepnote_cell_type": "code",
    "deepnote_cell_height": 347.375,
    "deepnote_output_heights": [
     232.390625
    ]
   },
   "outputs": [
    {
     "output_type": "execute_result",
     "execution_count": 13,
     "data": {
      "text/plain": "0         2008-02-18\n1         2008-06-06\n2         2008-06-06\n3         2008-06-09\n4         2008-08-31\n             ...    \n172451    2008-10-22\n172452    2008-08-30\n172453    2008-10-10\n172454    2008-12-03\n172455    2008-07-05\nName: saletime, Length: 172456, dtype: object"
     },
     "metadata": {}
    }
   ],
   "execution_count": null
  },
  {
   "cell_type": "code",
   "source": "df_group = train_data[['saletime', 'pricepaid']].groupby([train_data.saletime.dt.date]).sum()\ndf_group\n",
   "metadata": {
    "cell_id": "0927be4b-a10b-40cb-9d83-1afd7f103286",
    "tags": [],
    "deepnote_to_be_reexecuted": false,
    "source_hash": "8eb03149",
    "execution_start": 1647458704528,
    "execution_millis": 107,
    "deepnote_table_state": {
     "pageSize": 10,
     "pageIndex": 36,
     "filters": [],
     "sortBy": []
    },
    "deepnote_table_loading": false,
    "deepnote_cell_type": "code",
    "deepnote_cell_height": 429
   },
   "outputs": [
    {
     "output_type": "execute_result",
     "execution_count": 14,
     "data": {
      "application/vnd.deepnote.dataframe.v3+json": {
       "column_count": 1,
       "row_count": 365,
       "columns": [
        {
         "name": "pricepaid",
         "dtype": "int64",
         "stats": {
          "unique_count": 365,
          "nan_count": 0,
          "min": "9544",
          "max": "407440",
          "histogram": [
           {
            "bin_start": 9544,
            "bin_end": 49333.6,
            "count": 7
           },
           {
            "bin_start": 49333.6,
            "bin_end": 89123.2,
            "count": 9
           },
           {
            "bin_start": 89123.2,
            "bin_end": 128912.79999999999,
            "count": 10
           },
           {
            "bin_start": 128912.79999999999,
            "bin_end": 168702.4,
            "count": 9
           },
           {
            "bin_start": 168702.4,
            "bin_end": 208492,
            "count": 9
           },
           {
            "bin_start": 208492,
            "bin_end": 248281.59999999998,
            "count": 13
           },
           {
            "bin_start": 248281.59999999998,
            "bin_end": 288071.2,
            "count": 27
           },
           {
            "bin_start": 288071.2,
            "bin_end": 327860.8,
            "count": 93
           },
           {
            "bin_start": 327860.8,
            "bin_end": 367650.39999999997,
            "count": 149
           },
           {
            "bin_start": 367650.39999999997,
            "bin_end": 407440,
            "count": 39
           }
          ]
         }
        },
        {
         "name": "_deepnote_index_column",
         "dtype": "object"
        }
       ],
       "rows": [
        {
         "pricepaid": 42491,
         "_deepnote_index_column": "2008-12-27"
        },
        {
         "pricepaid": 59581,
         "_deepnote_index_column": "2008-12-28"
        },
        {
         "pricepaid": 42623,
         "_deepnote_index_column": "2008-12-29"
        },
        {
         "pricepaid": 27455,
         "_deepnote_index_column": "2008-12-30"
        },
        {
         "pricepaid": 12678,
         "_deepnote_index_column": "2008-12-31"
        }
       ]
      },
      "text/plain": "            pricepaid\nsaletime             \n2008-01-01       9544\n2008-01-02      19968\n2008-01-03      24851\n2008-01-04      57262\n2008-01-05      68062\n...               ...\n2008-12-27      42491\n2008-12-28      59581\n2008-12-29      42623\n2008-12-30      27455\n2008-12-31      12678\n\n[365 rows x 1 columns]",
      "text/html": "<div>\n<style scoped>\n    .dataframe tbody tr th:only-of-type {\n        vertical-align: middle;\n    }\n\n    .dataframe tbody tr th {\n        vertical-align: top;\n    }\n\n    .dataframe thead th {\n        text-align: right;\n    }\n</style>\n<table border=\"1\" class=\"dataframe\">\n  <thead>\n    <tr style=\"text-align: right;\">\n      <th></th>\n      <th>pricepaid</th>\n    </tr>\n    <tr>\n      <th>saletime</th>\n      <th></th>\n    </tr>\n  </thead>\n  <tbody>\n    <tr>\n      <th>2008-01-01</th>\n      <td>9544</td>\n    </tr>\n    <tr>\n      <th>2008-01-02</th>\n      <td>19968</td>\n    </tr>\n    <tr>\n      <th>2008-01-03</th>\n      <td>24851</td>\n    </tr>\n    <tr>\n      <th>2008-01-04</th>\n      <td>57262</td>\n    </tr>\n    <tr>\n      <th>2008-01-05</th>\n      <td>68062</td>\n    </tr>\n    <tr>\n      <th>...</th>\n      <td>...</td>\n    </tr>\n    <tr>\n      <th>2008-12-27</th>\n      <td>42491</td>\n    </tr>\n    <tr>\n      <th>2008-12-28</th>\n      <td>59581</td>\n    </tr>\n    <tr>\n      <th>2008-12-29</th>\n      <td>42623</td>\n    </tr>\n    <tr>\n      <th>2008-12-30</th>\n      <td>27455</td>\n    </tr>\n    <tr>\n      <th>2008-12-31</th>\n      <td>12678</td>\n    </tr>\n  </tbody>\n</table>\n<p>365 rows × 1 columns</p>\n</div>"
     },
     "metadata": {}
    }
   ],
   "execution_count": null
  },
  {
   "cell_type": "code",
   "source": "",
   "metadata": {
    "cell_id": "8c66fbee-d3d0-4f2a-b49e-5d0acadba5e6",
    "deepnote_cell_type": "visualization",
    "deepnote_cell_height": 54
   },
   "outputs": [],
   "execution_count": null
  },
  {
   "cell_type": "code",
   "source": "plt.plot(df_group)",
   "metadata": {
    "cell_id": "0be82fb1-31b0-4189-88b6-82de6dc02adf",
    "tags": [],
    "deepnote_to_be_reexecuted": false,
    "source_hash": "1ba87a3e",
    "execution_start": 1647458708064,
    "execution_millis": 332,
    "deepnote_cell_type": "code",
    "deepnote_cell_height": 399.1875,
    "deepnote_output_heights": [
     21.1875,
     250
    ]
   },
   "outputs": [
    {
     "output_type": "execute_result",
     "execution_count": 15,
     "data": {
      "text/plain": "[<matplotlib.lines.Line2D at 0x7f9a12078450>]"
     },
     "metadata": {}
    },
    {
     "data": {
      "text/plain": "<Figure size 432x288 with 1 Axes>",
      "image/png": "[encoded data removed]"
     },
     "metadata": {
      "needs_background": "light",
      "image/png": {
       "width": 400,
       "height": 248
      }
     },
     "output_type": "display_data"
    }
   ],
   "execution_count": null
  },
  {
   "cell_type": "markdown",
   "source": "Nota: El negocio va en una caida casí exponencial quizás indique un posible quiebra por ende el modelo de predicción de valores muy bajos decrecientes.",
   "metadata": {
    "cell_id": "e790e64d-dd30-455c-903e-f26dc1ba15b8",
    "tags": [],
    "is_collapsed": false,
    "deepnote_cell_type": "text-cell-p",
    "deepnote_cell_height": 74.796875
   }
  },
  {
   "cell_type": "markdown",
   "source": "### Modelo AR",
   "metadata": {
    "cell_id": "0d315754-1d69-4158-8b02-2f644def4915",
    "tags": [],
    "is_collapsed": false,
    "deepnote_cell_type": "text-cell-h3",
    "deepnote_cell_height": 62
   }
  },
  {
   "cell_type": "code",
   "source": "!pip install statsmodels==0.13.2",
   "metadata": {
    "cell_id": "cfbf25ad-aa35-4704-8575-8e604e9361cc",
    "tags": [],
    "deepnote_to_be_reexecuted": false,
    "source_hash": "d5a2ae9d",
    "execution_start": 1647458592189,
    "execution_millis": 10738,
    "deepnote_cell_type": "code",
    "deepnote_cell_height": 501.796875
   },
   "outputs": [
    {
     "name": "stdout",
     "text": "Collecting statsmodels==0.13.2\n  Downloading statsmodels-0.13.2-cp37-cp37m-manylinux_2_17_x86_64.manylinux2014_x86_64.whl (9.8 MB)\n\u001b[K     |████████████████████████████████| 9.8 MB 18.3 MB/s \n\u001b[?25hCollecting patsy>=0.5.2\n  Downloading patsy-0.5.2-py2.py3-none-any.whl (233 kB)\n\u001b[K     |████████████████████████████████| 233 kB 38.3 MB/s \n\u001b[?25hRequirement already satisfied: scipy>=1.3 in /shared-libs/python3.7/py/lib/python3.7/site-packages (from statsmodels==0.13.2) (1.7.3)\nRequirement already satisfied: numpy>=1.17 in /shared-libs/python3.7/py-core/lib/python3.7/site-packages (from statsmodels==0.13.2) (1.21.5)\nRequirement already satisfied: pandas>=0.25 in /shared-libs/python3.7/py/lib/python3.7/site-packages (from statsmodels==0.13.2) (1.3.5)\nRequirement already satisfied: packaging>=21.3 in /shared-libs/python3.7/py-core/lib/python3.7/site-packages (from statsmodels==0.13.2) (21.3)\nRequirement already satisfied: six in /shared-libs/python3.7/py-core/lib/python3.7/site-packages (from patsy>=0.5.2->statsmodels==0.13.2) (1.16.0)\nRequirement already satisfied: python-dateutil>=2.7.3 in /shared-libs/python3.7/py-core/lib/python3.7/site-packages (from pandas>=0.25->statsmodels==0.13.2) (2.8.2)\nRequirement already satisfied: pytz>=2017.3 in /shared-libs/python3.7/py-core/lib/python3.7/site-packages (from pandas>=0.25->statsmodels==0.13.2) (2021.3)\nRequirement already satisfied: pyparsing!=3.0.5,>=2.0.2 in /shared-libs/python3.7/py-core/lib/python3.7/site-packages (from packaging>=21.3->statsmodels==0.13.2) (3.0.7)\nInstalling collected packages: patsy, statsmodels\nSuccessfully installed patsy-0.5.2 statsmodels-0.13.2\n\u001b[33mWARNING: You are using pip version 20.1.1; however, version 22.0.4 is available.\nYou should consider upgrading via the '/root/venv/bin/python -m pip install --upgrade pip' command.\u001b[0m\n",
     "output_type": "stream"
    }
   ],
   "execution_count": null
  },
  {
   "cell_type": "code",
   "source": "from statsmodels.tsa.ar_model import AutoReg",
   "metadata": {
    "cell_id": "b2f34665-6b2f-4642-a0a0-39a074945a59",
    "tags": [],
    "deepnote_to_be_reexecuted": false,
    "source_hash": "9cb777d4",
    "execution_start": 1647458606631,
    "execution_millis": 688,
    "deepnote_cell_type": "code",
    "deepnote_cell_height": 81
   },
   "outputs": [],
   "execution_count": null
  },
  {
   "cell_type": "markdown",
   "source": "### Entrenar el modelo",
   "metadata": {
    "cell_id": "f0227dc7-3c29-4986-acf3-9df8fa42581d",
    "tags": [],
    "is_collapsed": false,
    "deepnote_cell_type": "text-cell-h3",
    "deepnote_cell_height": 62
   }
  },
  {
   "cell_type": "code",
   "source": "train_data = df_group[:len(df_group)-100]\ntest_data = df_group[len(df_group)-100:]",
   "metadata": {
    "cell_id": "4759730c-81f3-4cb4-a8f3-e335128e4021",
    "tags": [],
    "deepnote_to_be_reexecuted": false,
    "source_hash": "4620d740",
    "execution_start": 1647459902144,
    "execution_millis": 623083,
    "deepnote_cell_type": "code",
    "deepnote_cell_height": 99,
    "deepnote_output_heights": [
     611,
     558.796875
    ]
   },
   "outputs": [],
   "execution_count": null
  },
  {
   "cell_type": "code",
   "source": "ar_model = AutoReg(train_data, lags=7).fit()",
   "metadata": {
    "cell_id": "a740011e-138f-43ec-b0e8-78be8f2a6d5e",
    "tags": [],
    "deepnote_to_be_reexecuted": false,
    "source_hash": "d5be36c7",
    "execution_start": 1647459980764,
    "execution_millis": 45,
    "deepnote_cell_type": "code",
    "deepnote_cell_height": 136.796875
   },
   "outputs": [
    {
     "name": "stderr",
     "text": "/root/venv/lib/python3.7/site-packages/statsmodels/tsa/base/tsa_model.py:471: ValueWarning: A date index has been provided, but it has no associated frequency information and so will be ignored when e.g. forecasting.\n  self._init_dates(dates, freq)\n",
     "output_type": "stream"
    }
   ],
   "execution_count": null
  },
  {
   "cell_type": "markdown",
   "source": "### Predicciones",
   "metadata": {
    "cell_id": "b76f2d08-55a6-4470-9b4d-48affbf4120d",
    "tags": [],
    "is_collapsed": false,
    "deepnote_cell_type": "text-cell-h3",
    "deepnote_cell_height": 62
   }
  },
  {
   "cell_type": "code",
   "source": "pred = ar_model.predict(start=len(train_data), end=(len(df_group)-1), dynamic=False)\n#\n# Plot the prediction vs test data\n#\nplt.plot(pred)\nplt.plot(test_data, color='red')",
   "metadata": {
    "cell_id": "88758b95-b06c-4a6a-ae08-c871d9d44d74",
    "tags": [],
    "deepnote_to_be_reexecuted": false,
    "source_hash": "c9c5a5a",
    "execution_start": 1647459361741,
    "execution_millis": 530,
    "deepnote_cell_type": "code",
    "deepnote_cell_height": 559.984375,
    "deepnote_output_heights": [
     null,
     21.1875,
     250
    ]
   },
   "outputs": [
    {
     "name": "stderr",
     "text": "/root/venv/lib/python3.7/site-packages/statsmodels/tsa/base/tsa_model.py:843: ValueWarning: No supported index is available. Prediction results will be given with an integer index beginning at `start`.\n  data=self.data,\n",
     "output_type": "stream"
    },
    {
     "output_type": "execute_result",
     "execution_count": 34,
     "data": {
      "text/plain": "[<matplotlib.lines.Line2D at 0x7f9a0865b4d0>]"
     },
     "metadata": {}
    },
    {
     "data": {
      "text/plain": "<Figure size 432x288 with 1 Axes>",
      "image/png": "[encoded data removed]"
     },
     "metadata": {
      "needs_background": "light",
      "image/png": {
       "width": 399,
       "height": 248
      }
     },
     "output_type": "display_data"
    }
   ],
   "execution_count": null
  },
  {
   "cell_type": "markdown",
   "source": "<a style='text-decoration:none;line-height:16px;display:flex;color:#5B5B62;padding:10px;justify-content:end;' href='https://deepnote.com?utm_source=created-in-deepnote-cell&projectId=9ee48c94-9986-4ddb-8df6-8c7e6f24a682' target=\"_blank\">\n<img alt='Created in deepnote.com' style='display:inline;max-height:16px;margin:0px;margin-right:7.5px;' src='data:image/svg+xml;base64,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' > </img>\nCreated in <span style='font-weight:600;margin-left:4px;'>Deepnote</span></a>",
   "metadata": {
    "tags": [],
    "created_in_deepnote_cell": true,
    "deepnote_cell_type": "markdown"
   }
  }
 ],
 "nbformat": 4,
 "nbformat_minor": 2,
 "metadata": {
  "orig_nbformat": 2,
  "deepnote": {
   "is_reactive": false
  },
  "deepnote_notebook_id": "bf52062a-d0b5-4ec9-83f7-f10074ba151b",
  "deepnote_execution_queue": []
 }
}